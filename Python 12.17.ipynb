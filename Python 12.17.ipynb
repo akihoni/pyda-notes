{
 "cells": [
  {
   "cell_type": "markdown",
   "metadata": {},
   "source": [
    "# NumPy：数组和矢量计算\n",
    "\n",
    "数据分析使用的功能\n",
    "- 用于数据整理和清理、子集构造和过滤、转换等快速的矢量化数组运算。\n",
    "- 常用的数组算法，如排序、唯一化、集合运算等。\n",
    "- 高效的描述统计和数据聚合/摘要运算。\n",
    "- 用于异构数据集的合并/连接运算的数据对齐和关系型数据运算。\n",
    "- 将条件逻辑表述为数组表达式（而不是if-elif-else分支的循环）。\n",
    "- 数据的分组运算（聚合、转换、函数应用等）。\n",
    "\n",
    "pandas可用于处理表格数据，另外具有NumPy不具有的某些特定功能，例如时间序列处理。\n",
    "\n",
    "## ndarray：一种多维数组对象\n",
    "\n",
    "ndarray是一个N维数组对象，是一个快速而灵活的大数据集容器。\n",
    "\n",
    "可以利用这种数组对整块的数据进行数学运算，而语法却和标量数据运算一样。"
   ]
  },
  {
   "cell_type": "code",
   "execution_count": 1,
   "metadata": {},
   "outputs": [
    {
     "name": "stdout",
     "output_type": "stream",
     "text": [
      "[[-0.71324301 -0.35501951  0.83263098 -0.79122427]\n",
      " [-0.06208214  0.89600981  0.71525231 -0.92900546]\n",
      " [ 0.53179077  1.11364656  1.09262526 -0.50446171]]\n"
     ]
    }
   ],
   "source": [
    "import numpy as np\n",
    "\n",
    "# Generate some random data\n",
    "data = np.random.randn(3, 4)\n",
    "print(data)"
   ]
  },
  {
   "cell_type": "code",
   "execution_count": 2,
   "metadata": {},
   "outputs": [
    {
     "name": "stdout",
     "output_type": "stream",
     "text": [
      "[[-7.13243014 -3.55019509  8.32630981 -7.91224268]\n",
      " [-0.62082141  8.96009811  7.15252314 -9.29005458]\n",
      " [ 5.31790766 11.13646557 10.92625265 -5.04461709]]\n"
     ]
    }
   ],
   "source": [
    "print(data * 10)"
   ]
  },
  {
   "cell_type": "code",
   "execution_count": 3,
   "metadata": {},
   "outputs": [
    {
     "name": "stdout",
     "output_type": "stream",
     "text": [
      "[[-1.42648603 -0.71003902  1.66526196 -1.58244854]\n",
      " [-0.12416428  1.79201962  1.43050463 -1.85801092]\n",
      " [ 1.06358153  2.22729311  2.18525053 -1.00892342]]\n"
     ]
    }
   ],
   "source": [
    "print(data + data)"
   ]
  },
  {
   "cell_type": "markdown",
   "metadata": {},
   "source": [
    "ndarray是一个通用的**同构**数据多维容器，其中的所有元素必须是**相同类型**的。\n",
    "每个数组具有一个shape（表示维度大小的元组）和一个dtype（用于说明数组数据类型的对象）。"
   ]
  },
  {
   "cell_type": "code",
   "execution_count": 4,
   "metadata": {},
   "outputs": [
    {
     "name": "stdout",
     "output_type": "stream",
     "text": [
      "(3, 4)\n",
      "float64\n"
     ]
    }
   ],
   "source": [
    "print(data.shape)\n",
    "print(data.dtype)"
   ]
  },
  {
   "cell_type": "markdown",
   "metadata": {},
   "source": [
    "## 创建ndarray\n",
    "\n",
    "### 使用array函数\n",
    "\n",
    "array函数接受一切序列型的对象，然后产生一个含有传入数据的NumPy数组。"
   ]
  },
  {
   "cell_type": "code",
   "execution_count": 7,
   "metadata": {},
   "outputs": [
    {
     "name": "stdout",
     "output_type": "stream",
     "text": [
      "[6.  7.  8.5 9.  1. ]\n"
     ]
    }
   ],
   "source": [
    "data1 = [6, 7, 8.5, 9, 1]\n",
    "arr1 = np.array(data1)\n",
    "print(arr1)"
   ]
  },
  {
   "cell_type": "markdown",
   "metadata": {},
   "source": [
    "嵌套序列（比如列表套列表）会被转换为一个多维数组。\n",
    "\n",
    "此数组的维度和data2是相同的。\n",
    "\n",
    "另外np.array会尝试给转换来的数组赋一个合适的数据类型，数据类型保存在一个特殊的dtype对象中。"
   ]
  },
  {
   "cell_type": "code",
   "execution_count": 10,
   "metadata": {},
   "outputs": [
    {
     "name": "stdout",
     "output_type": "stream",
     "text": [
      "[[1 2 3 4]\n",
      " [5 6 7 8]]\n",
      "arr2.ndim = 2\n",
      "arr2.shape = (2, 4)\n",
      "arr1.dtype = float64\n",
      "arr2.dtype = int32\n"
     ]
    }
   ],
   "source": [
    "data2 = [[1, 2, 3, 4], [5, 6, 7, 8]]\n",
    "arr2 = np.array(data2)\n",
    "print(arr2)\n",
    "\n",
    "print('arr2.ndim =', end = ' ')\n",
    "print(arr2.ndim)\n",
    "print('arr2.shape =', end = ' ')\n",
    "print(arr2.shape)\n",
    "\n",
    "print('arr1.dtype =', end = ' ')\n",
    "print(arr1.dtype)\n",
    "print('arr2.dtype =', end = ' ')\n",
    "print(arr2.dtype)"
   ]
  },
  {
   "cell_type": "markdown",
   "metadata": {},
   "source": [
    "另外可以使用np.zeros生成全0数组，np.ones生成全1数组，np.empty生成未初始化数组。\n",
    "\n",
    "传入参数为要生成的数组的维度。\n",
    "\n",
    "np.arange生成0到n的自然数从小到大排列组成的数组。\n",
    "\n",
    "在没有特别指定时，数据类型基本都是float64。\n",
    "\n",
    "可以使用ndarray的astype方法转换dtype。\n",
    "\n",
    "## 基本的索引和切片\n",
    "\n",
    "### 索引\n",
    "\n",
    "一个二维数组中，每个索引位置上的元素是一个一维数组。\n",
    "\n",
    "axis 0 为行，axis 1 为列。"
   ]
  }
 ],
 "metadata": {
  "kernelspec": {
   "display_name": "Python 3",
   "language": "python",
   "name": "python3"
  },
  "language_info": {
   "codemirror_mode": {
    "name": "ipython",
    "version": 3
   },
   "file_extension": ".py",
   "mimetype": "text/x-python",
   "name": "python",
   "nbconvert_exporter": "python",
   "pygments_lexer": "ipython3",
   "version": "3.6.5"
  }
 },
 "nbformat": 4,
 "nbformat_minor": 2
}
