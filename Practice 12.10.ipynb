{
 "cells": [
  {
   "cell_type": "markdown",
   "metadata": {},
   "source": [
    "# 格式化方法\n",
    "\n",
    "将其他信息构建成字符串\n",
    "\n",
    "## format() 方法的工作方式\n",
    "\n",
    "一个字符串可以使用某些特定的**格式**，调用format()方法时，使用这一方法中与之相应的参数替换这些格式。\n",
    "\n",
    "示例如 cell[12] & [7]\n",
    "\n",
    "python 中 `format` 方法所做的事情是将每个参数值替换到格式所在的位置，大括号括起来的位置就是格式位置，比如{0}。\n",
    "\n",
    "## 其他方式\n",
    "\n",
    "`print` 总是使用一个不可见的 `\\n` 作为结尾，此使可以使用 `end` 指定结尾字符。\n",
    "\n",
    "示例如 cell[10]。"
   ]
  },
  {
   "cell_type": "code",
   "execution_count": 12,
   "metadata": {},
   "outputs": [
    {
     "name": "stdout",
     "output_type": "stream",
     "text": [
      "My name is Aki, I'm 22 years old now and I'm doing my python practice\n"
     ]
    }
   ],
   "source": [
    "# format 方法\n",
    "\n",
    "name = 'Aki'\n",
    "age = 22\n",
    "sex = 'Female'\n",
    "\n",
    "print('My name is {0}, I\\'m {1} years old now \\\n",
    "and I\\'m doing my python practice'.format(name, age, sex))"
   ]
  },
  {
   "cell_type": "code",
   "execution_count": 7,
   "metadata": {},
   "outputs": [
    {
     "name": "stdout",
     "output_type": "stream",
     "text": [
      "0.333\n",
      "___hello___\n",
      "Aki is doing her practice now.\n"
     ]
    }
   ],
   "source": [
    "# format 方法 advance\n",
    "\n",
    "# 对于浮点数“0.3333...”保留小数点后3位\n",
    "print('{0:.3f}'.format(1.0/3))\n",
    "\n",
    "# 使用下划线填充文本并使文字处于中间位置\n",
    "#可使用 (^) 定义字符串全长为11\n",
    "print('{0:_^11}'.format('hello'))\n",
    "\n",
    "# 基于关键词输出 'Aki is doing her practice now.'\n",
    "sex = 'Female'\n",
    "if(sex == 'Male'):\n",
    "    sexs = 'his'\n",
    "else:\n",
    "    sexs = 'her'\n",
    "print('{name} is doing {sexs} practice now.'.format(name='Aki', sexs=sexs))"
   ]
  },
  {
   "cell_type": "code",
   "execution_count": 10,
   "metadata": {},
   "outputs": [
    {
     "name": "stdout",
     "output_type": "stream",
     "text": [
      "aki\n",
      "Aki is studying now.\n"
     ]
    }
   ],
   "source": [
    "# 使用 end 指定 print 方法的结尾字符\n",
    "\n",
    "print('a', end = '')\n",
    "print('ki', end = '\\n')\n",
    "\n",
    "print('Aki', end = ' ')\n",
    "print('is', end = ' ')\n",
    "print('studying now.', end = '\\n')"
   ]
  }
 ],
 "metadata": {
  "kernelspec": {
   "display_name": "Python 3",
   "language": "python",
   "name": "python3"
  },
  "language_info": {
   "codemirror_mode": {
    "name": "ipython",
    "version": 3
   },
   "file_extension": ".py",
   "mimetype": "text/x-python",
   "name": "python",
   "nbconvert_exporter": "python",
   "pygments_lexer": "ipython3",
   "version": "3.6.5"
  }
 },
 "nbformat": 4,
 "nbformat_minor": 2
}
